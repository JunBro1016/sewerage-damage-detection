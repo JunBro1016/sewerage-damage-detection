{
 "cells": [
  {
   "cell_type": "markdown",
   "id": "89a760fb",
   "metadata": {},
   "source": [
    "# 1. Device connection"
   ]
  },
  {
   "cell_type": "code",
   "execution_count": null,
   "id": "5cd029e1",
   "metadata": {},
   "outputs": [],
   "source": [
    "from RobokitRS.RobokitRS import *\n",
    "import time as t\n",
    "\n",
    "rs = RobokitRS()"
   ]
  },
  {
   "cell_type": "code",
   "execution_count": null,
   "id": "3913b996",
   "metadata": {},
   "outputs": [],
   "source": [
    "rs.port_open(\"/dev/cu.SLAB_USBtoUART\")"
   ]
  },
  {
   "cell_type": "markdown",
   "id": "a243e115",
   "metadata": {},
   "source": [
    "# 2. RGB sensor connection"
   ]
  },
  {
   "cell_type": "code",
   "execution_count": null,
   "id": "e8d678f4",
   "metadata": {},
   "outputs": [],
   "source": [
    "# RGB LED Color Settings\n",
    "rs.set_rgb_led_color(12, 100, 100, 100) # Sensor connection number(12), R, G, B(0~100)\n",
    "rs.set_rgb_led_on(12)"
   ]
  },
  {
   "cell_type": "code",
   "execution_count": null,
   "id": "5ec9d21d",
   "metadata": {},
   "outputs": [],
   "source": [
    "# RGB LED color change\n",
    "rs.set_rgb_led_red(12)\n",
    "rs.delay()\n",
    "rs.set_rgb_led_on(12)\n",
    "rs.delay()\n",
    "rs.set_rgb_led_orange(12)\n",
    "rs.delay()"
   ]
  },
  {
   "cell_type": "markdown",
   "id": "4cb9c7b2",
   "metadata": {},
   "source": [
    "# 3. Automatic driving"
   ]
  },
  {
   "cell_type": "code",
   "execution_count": null,
   "id": "d299f70d",
   "metadata": {},
   "outputs": [],
   "source": [
    "from IPython.display import display, Image\n",
    "display(Image(filename='./auto mobile direction.png'))"
   ]
  },
  {
   "cell_type": "code",
   "execution_count": null,
   "id": "937faa4e",
   "metadata": {},
   "outputs": [],
   "source": [
    "# T: driving time\n",
    "# v: driving speed (max: 15)\n",
    "\n",
    "# going straight\n",
    "def forward(T, v):\n",
    "    rs.motor_write(0, 1, v)\n",
    "    rs.motor_write(1, 0, v)\n",
    "    rs.motor_write(2, 1, v)\n",
    "    rs.motor_write(3, 0, v)\n",
    "    t.sleep(T)\n",
    "    stop()\n",
    "    \n",
    "# stop\n",
    "def stop():\n",
    "    rs.motor_write(0, 0, 0)\n",
    "    rs.motor_write(1, 0, 0)\n",
    "    rs.motor_write(2, 0, 0)\n",
    "    rs.motor_write(3, 0, 0)\n",
    "\n",
    "# back\n",
    "def reverse(T, v):\n",
    "    rs.motor_write(0, 0, v)\n",
    "    rs.motor_write(1, 1, v)\n",
    "    rs.motor_write(2, 0, v)\n",
    "    rs.motor_write(3, 1, v)\n",
    "    t.sleep(T)\n",
    "    stop()\n",
    "\n",
    "# right\n",
    "def right(T, v):\n",
    "    rs.motor_write(0, 1, v)\n",
    "    rs.motor_write(1, 1, v)\n",
    "    rs.motor_write(2, 0, v)\n",
    "    rs.motor_write(3, 0, v)\n",
    "    t.sleep(T)\n",
    "    stop()\n",
    "\n",
    "# left\n",
    "def left(T, v):\n",
    "    rs.motor_write(0, 0, v)\n",
    "    rs.motor_write(1, 0, v)\n",
    "    rs.motor_write(2, 1, v)\n",
    "    rs.motor_write(3, 1, v)\n",
    "    t.sleep(T)\n",
    "    stop()\n",
    "\n",
    "# right diagnoal\n",
    "def front_right(T, v):\n",
    "    rs.motor_write(0, 1, v)\n",
    "    rs.motor_write(3, 0, v)\n",
    "    t.sleep(T)\n",
    "    stop()\n",
    "\n",
    "# left diagonal\n",
    "def front_left(T, v):\n",
    "    rs.motor_write(1, 0, v)\n",
    "    rs.motor_write(2, 1, v)\n",
    "    t.sleep(T)\n",
    "    stop()\n",
    "\n",
    "# right turn\n",
    "def right_turn(T, v):\n",
    "    rs.motor_write(0, 1, v)\n",
    "    rs.motor_write(1, 1, v)\n",
    "    rs.motor_write(2, 1, v)\n",
    "    rs.motor_write(3, 1, v)\n",
    "    t.sleep(T)\n",
    "    stop()\n",
    "\n",
    "# left turn\n",
    "def left_turn(T, v):\n",
    "    rs.motor_write(0, 0, v)\n",
    "    rs.motor_write(1, 0, v)\n",
    "    rs.motor_write(2, 0, v)\n",
    "    rs.motor_write(3, 0, v)\n",
    "    t.sleep(T)\n",
    "    stop()\n",
    "\n",
    "# pause\n",
    "def pause(T):\n",
    "    t.sleep(T)"
   ]
  },
  {
   "cell_type": "markdown",
   "id": "413f2767",
   "metadata": {},
   "source": [
    "# 4. Ultrasonic sensor connection and driving"
   ]
  },
  {
   "cell_type": "code",
   "execution_count": null,
   "id": "70ab40b3",
   "metadata": {},
   "outputs": [],
   "source": [
    "def obstacle_detection():\n",
    "    right_turn(1, 5) # Measuring the distance to the right corner\n",
    "    right_dist = rs.sonar_read(13)\n",
    "\n",
    "    left_turn(2, 5) # Measuring the distance to the left corner\n",
    "    left_dist = rs.sonar_read(13)\n",
    "\n",
    "    right_turn(1, 5) # back to orignial location\n",
    "\n",
    "    if left_dist > right_dist: # If the sewer is bent to the left\n",
    "        left_turn(1, 3)\n",
    "        forward(1, 3)\n",
    "    else: # If the sewer is bent to the right\n",
    "        right_turn(1, 3)\n",
    "        forward(1, 3)"
   ]
  },
  {
   "cell_type": "code",
   "execution_count": null,
   "id": "617256dd",
   "metadata": {},
   "outputs": [],
   "source": [
    "rs.sonar_begin(13) # connect to ultrasonic sensor\n",
    "rs.set_rgb_led_orange(12) # ready\n",
    "\n",
    "forward(1, 10)\n",
    "\n",
    "try:\n",
    "    while True:\n",
    "        dist = rs.sonar_read(13) # distance between the car and the obstruction recognized by the ultrasonic sensor\n",
    "        t.sleep(0.1)\n",
    "        print(dist)\n",
    "        rs.set_rgb_led_green(12)\n",
    "\n",
    "        if dist < 20:\n",
    "            stop()\n",
    "            rs.set_rgb_led_orange(12)\n",
    "            \n",
    "            print('Ostacle detected')\n",
    "            obstacle_detection()\n",
    "            \n",
    "        else:\n",
    "            forward(1, 10)\n",
    "except:\n",
    "    stop()\n",
    "    #pass # if error, return to the try statement and re-detecting the ultrasound\n",
    "    \n",
    "print(\"Terminated\")"
   ]
  }
 ],
 "metadata": {
  "kernelspec": {
   "display_name": "Python 3 (ipykernel)",
   "language": "python",
   "name": "python3"
  },
  "language_info": {
   "codemirror_mode": {
    "name": "ipython",
    "version": 3
   },
   "file_extension": ".py",
   "mimetype": "text/x-python",
   "name": "python",
   "nbconvert_exporter": "python",
   "pygments_lexer": "ipython3",
   "version": "3.9.12"
  }
 },
 "nbformat": 4,
 "nbformat_minor": 5
}
