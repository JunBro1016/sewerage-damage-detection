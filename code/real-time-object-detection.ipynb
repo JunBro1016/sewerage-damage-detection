{
 "cells": [
  {
   "cell_type": "markdown",
   "id": "52fe9b4d",
   "metadata": {},
   "source": [
    "# 1. Import modules"
   ]
  },
  {
   "cell_type": "code",
   "execution_count": null,
   "id": "f18eb67a",
   "metadata": {},
   "outputs": [],
   "source": [
    "import cv2\n",
    "from ultralytics import YOLO"
   ]
  },
  {
   "cell_type": "markdown",
   "id": "40097ae1",
   "metadata": {},
   "source": [
    "# 2. Object detection in real time"
   ]
  },
  {
   "cell_type": "code",
   "execution_count": null,
   "id": "f00fcdff",
   "metadata": {},
   "outputs": [],
   "source": [
    "# load YOLOv8m model\n",
    "model = YOLO('final.pt')\n",
    "\n",
    "# IP camera feed settings\n",
    "# turn on your phone first and check url; endpoint to live\n",
    "ip_camera_url = \"http://192.168.0.33/live\"\n",
    "\n",
    "cap = cv2.VideoCapture(ip_camera_url)\n",
    "\n",
    "while cap.isOpened():\n",
    "    \n",
    "    # read Image Frames from Video\n",
    "    success, frame = cap.read()\n",
    "\n",
    "    if success:\n",
    "        # detect objects using YOLOv8 model\n",
    "        results = model(frame)\n",
    "\n",
    "        # visualize the results in the frame\n",
    "        annotated_frame = results[0].plot()\n",
    "\n",
    "        # display the annoted frames\n",
    "        cv2.imshow(\"YOLOv8 Inference\", annotated_frame)\n",
    "\n",
    "        # if 'q', break\n",
    "        if cv2.waitKey(1) & 0xFF == ord(\"q\"):\n",
    "            break\n",
    "    else:\n",
    "        # if having trouble to get frames, stop\n",
    "        print(\"Failed to grab frame\")\n",
    "        break\n",
    "\n",
    "# release the video capture object and close the display window\n",
    "cap.release()\n",
    "cv2.destroyAllWindows()"
   ]
  }
 ],
 "metadata": {
  "kernelspec": {
   "display_name": "Python 3 (ipykernel)",
   "language": "python",
   "name": "python3"
  },
  "language_info": {
   "codemirror_mode": {
    "name": "ipython",
    "version": 3
   },
   "file_extension": ".py",
   "mimetype": "text/x-python",
   "name": "python",
   "nbconvert_exporter": "python",
   "pygments_lexer": "ipython3",
   "version": "3.9.12"
  }
 },
 "nbformat": 4,
 "nbformat_minor": 5
}
